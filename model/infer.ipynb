{
 "cells": [
  {
   "cell_type": "code",
   "execution_count": null,
   "metadata": {
    "vscode": {
     "languageId": "plaintext"
    }
   },
   "outputs": [],
   "source": [
    "import pickle\n",
    "import re\n",
    "import numpy as np\n",
    "import pandas as pd\n",
    "from string import punctuation\n",
    "from nltk.corpus import stopwords\n",
    "from nltk.stem import WordNetLemmatizer\n",
    "from nltk import word_tokenize\n",
    "from textblob import TextBlob\n",
    "import nltk"
   ]
  },
  {
   "cell_type": "code",
   "execution_count": null,
   "metadata": {
    "vscode": {
     "languageId": "plaintext"
    }
   },
   "outputs": [],
   "source": [
    "def identity_tokenizer(text):\n",
    "    return text\n",
    "\n",
    "le = pickle.load(open('encoder.sav', 'rb'))\n",
    "data_target = pickle.load(open('data_target.sav', 'rb'))\n",
    "clf = pickle.load(open('model.sav', 'rb'))\n",
    "tfidf = pickle.load(open('tfidf.sav', 'rb'))\n",
    "features, labels = data_target\n",
    "result = clf.score(features, labels)\n",
    "print(result)"
   ]
  },
  {
   "cell_type": "code",
   "execution_count": null,
   "metadata": {
    "vscode": {
     "languageId": "plaintext"
    }
   },
   "outputs": [],
   "source": [
    "def preprocess(X):\n",
    "    X = X.lower()\n",
    "    r = re.compile('[0-9]+')\n",
    "    X = re.sub(r, '', X)\n",
    "    X = ''.join(c for c in X if c not in punctuation)\n",
    "\n",
    "    stopword = stopwords.words('english')\n",
    "    wordnet_lemmatizer = WordNetLemmatizer()\n",
    "    X = word_tokenize(X)\n",
    "    X = [wordnet_lemmatizer.lemmatize(x, 'v') for x in X]\n",
    "    X = [word for word in X if word not in stopword]\n",
    "\n",
    "    return X"
   ]
  },
  {
   "cell_type": "code",
   "execution_count": null,
   "metadata": {
    "vscode": {
     "languageId": "plaintext"
    }
   },
   "outputs": [],
   "source": [
    "def predict(test):\n",
    "    X = preprocess(test)\n",
    "    X = [X]\n",
    "    X = tfidf.transform(X)\n",
    "    X = np.asarray(X.todense())\n",
    "    y = clf.predict(X)\n",
    "    y = le.inverse_transform([y])\n",
    "    return y"
   ]
  },
  {
   "cell_type": "code",
   "execution_count": null,
   "metadata": {
    "vscode": {
     "languageId": "plaintext"
    }
   },
   "outputs": [],
   "source": [
    "predict('Goods sold for cash Rs. 6500')"
   ]
  },
  {
   "cell_type": "code",
   "execution_count": null,
   "metadata": {
    "vscode": {
     "languageId": "plaintext"
    }
   },
   "outputs": [],
   "source": [
    "df = pd.read_excel('dataset.xlsx')\n",
    "df.head()"
   ]
  },
  {
   "cell_type": "code",
   "execution_count": null,
   "metadata": {
    "vscode": {
     "languageId": "plaintext"
    }
   },
   "outputs": [],
   "source": [
    "def extract_nouns(X):\n",
    "    is_noun = lambda pos: pos[:2] == 'NN'\n",
    "    X = preprocess(X)\n",
    "    nouns = [word for (word, pos) in nltk.pos_tag(X) if is_noun(pos)]\n",
    "    return nouns\n",
    "\n",
    "df['nouns'] = df['Transaction'].apply(lambda X: extract_nouns(X))"
   ]
  },
  {
   "cell_type": "code",
   "execution_count": null,
   "metadata": {
    "vscode": {
     "languageId": "plaintext"
    }
   },
   "outputs": [],
   "source": [
    "df"
   ]
  },
  {
   "cell_type": "code",
   "execution_count": null,
   "metadata": {
    "vscode": {
     "languageId": "plaintext"
    }
   },
   "outputs": [],
   "source": [
    "r = re.compile('[0-9,]+')    #\\d+\n",
    "df['amount'] = df['Transaction'].apply(lambda X: re.findall(r, X))"
   ]
  },
  {
   "cell_type": "code",
   "execution_count": null,
   "metadata": {
    "vscode": {
     "languageId": "plaintext"
    }
   },
   "outputs": [],
   "source": [
    "df"
   ]
  },
  {
   "cell_type": "code",
   "execution_count": null,
   "metadata": {
    "vscode": {
     "languageId": "plaintext"
    }
   },
   "outputs": [],
   "source": [
    "def preprocess_with_case(X):\n",
    "    r = re.compile('[0-9]+')\n",
    "    X = re.sub(r, '', X)\n",
    "    X = ''.join(c for c in X if c not in punctuation)\n",
    "\n",
    "    stopword = stopwords.words('english')\n",
    "    wordnet_lemmatizer = WordNetLemmatizer()\n",
    "    X = word_tokenize(X)\n",
    "    X = [wordnet_lemmatizer.lemmatize(x, 'v') for x in X]\n",
    "    X = [word for word in X if word not in stopword]\n",
    "\n",
    "    return X"
   ]
  },
  {
   "cell_type": "code",
   "execution_count": null,
   "metadata": {
    "vscode": {
     "languageId": "plaintext"
    }
   },
   "outputs": [],
   "source": [
    "X = 'Sold goods to Steve Co. (Credit) 38,000'"
   ]
  },
  {
   "cell_type": "code",
   "execution_count": null,
   "metadata": {
    "vscode": {
     "languageId": "plaintext"
    }
   },
   "outputs": [],
   "source": [
    "noises = []\n",
    "for noun in df['nouns']:\n",
    "    print(noun)"
   ]
  }
 ],
 "metadata": {
  "language_info": {
   "name": "python"
  }
 },
 "nbformat": 4,
 "nbformat_minor": 2
}
